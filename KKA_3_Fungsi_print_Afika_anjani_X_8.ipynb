{
  "nbformat": 4,
  "nbformat_minor": 0,
  "metadata": {
    "colab": {
      "provenance": [],
      "authorship_tag": "ABX9TyOzOziZCQeiolK/zR/KDH5u",
      "include_colab_link": true
    },
    "kernelspec": {
      "name": "python3",
      "display_name": "Python 3"
    },
    "language_info": {
      "name": "python"
    }
  },
  "cells": [
    {
      "cell_type": "markdown",
      "metadata": {
        "id": "view-in-github",
        "colab_type": "text"
      },
      "source": [
        "<a href=\"https://colab.research.google.com/github/afikaanjanie/KKA-X-Semester-1/blob/main/KKA_3_Fungsi_print_Afika_anjani_X_8.ipynb\" target=\"_parent\"><img src=\"https://colab.research.google.com/assets/colab-badge.svg\" alt=\"Open In Colab\"/></a>"
      ]
    },
    {
      "cell_type": "markdown",
      "source": [
        "Nama:afika anjani\n",
        "\n",
        "Kelas:X.8\n",
        "\n",
        "No.absen:3"
      ],
      "metadata": {
        "id": "uOxc5jv6ewJO"
      }
    },
    {
      "cell_type": "markdown",
      "source": [
        "#Menampilkan Text Bebas"
      ],
      "metadata": {
        "id": "h7ChWy40fjYu"
      }
    },
    {
      "cell_type": "code",
      "source": [
        "print(\"Helo World\")"
      ],
      "metadata": {
        "colab": {
          "base_uri": "https://localhost:8080/"
        },
        "id": "oiVDy8E4ev8f",
        "outputId": "eb485af3-353e-4c5e-b558-2a8b9beddd42"
      },
      "execution_count": null,
      "outputs": [
        {
          "output_type": "stream",
          "name": "stdout",
          "text": [
            "Helo World\n"
          ]
        }
      ]
    },
    {
      "cell_type": "code",
      "source": [
        "print(\"Afika Anjani\")"
      ],
      "metadata": {
        "colab": {
          "base_uri": "https://localhost:8080/"
        },
        "id": "2rkUg2jUhVOj",
        "outputId": "d0bc1e61-9f60-473b-c693-8cc339027c81"
      },
      "execution_count": null,
      "outputs": [
        {
          "output_type": "stream",
          "name": "stdout",
          "text": [
            "Afika Anjani\n"
          ]
        }
      ]
    },
    {
      "cell_type": "markdown",
      "source": [
        "#Menampilkan Nilai Variabel"
      ],
      "metadata": {
        "id": "XfJ4KkCOiD9r"
      }
    },
    {
      "cell_type": "code",
      "source": [
        "usia=15\n",
        "\n",
        "\n",
        "print(usia)"
      ],
      "metadata": {
        "colab": {
          "base_uri": "https://localhost:8080/"
        },
        "id": "utHbbUlriOIN",
        "outputId": "983b9028-4d3e-4e18-fc3f-9345a7edd2d9"
      },
      "execution_count": null,
      "outputs": [
        {
          "output_type": "stream",
          "name": "stdout",
          "text": [
            "15\n"
          ]
        }
      ]
    },
    {
      "cell_type": "code",
      "source": [
        "Nama siswa 1"
      ],
      "metadata": {
        "id": "tdZ6MHCr2LCO"
      },
      "execution_count": null,
      "outputs": []
    },
    {
      "cell_type": "code",
      "source": [
        "Nama=\"Afika Anjani\"\n",
        "\n",
        "print(Nama)"
      ],
      "metadata": {
        "colab": {
          "base_uri": "https://localhost:8080/"
        },
        "id": "oEvWecYEjLuu",
        "outputId": "3313c24e-fe43-4cc1-d89d-be613238918c"
      },
      "execution_count": null,
      "outputs": [
        {
          "output_type": "stream",
          "name": "stdout",
          "text": [
            "Afika Anjani\n"
          ]
        }
      ]
    },
    {
      "cell_type": "code",
      "source": [
        "BB=62\n",
        "\n",
        "print(BB)"
      ],
      "metadata": {
        "colab": {
          "base_uri": "https://localhost:8080/"
        },
        "id": "cOyqmLV1kBc5",
        "outputId": "a52e52f9-7afb-4337-c401-5ef2342dfc1e"
      },
      "execution_count": null,
      "outputs": [
        {
          "output_type": "stream",
          "name": "stdout",
          "text": [
            "62\n"
          ]
        }
      ]
    },
    {
      "cell_type": "markdown",
      "source": [
        "#Menampilkan Text Bebas Dan Nilai Variabel"
      ],
      "metadata": {
        "id": "JXqZS85-lFKB"
      }
    },
    {
      "cell_type": "code",
      "source": [
        "print(f\"Perkenalkan nama saya{Nama}.\")"
      ],
      "metadata": {
        "colab": {
          "base_uri": "https://localhost:8080/"
        },
        "id": "uV2O_RMBlVK3",
        "outputId": "c84108a3-c811-4bc6-dbb1-a38a42a2d2a1"
      },
      "execution_count": null,
      "outputs": [
        {
          "output_type": "stream",
          "name": "stdout",
          "text": [
            "Perkenalkan nama sayaAfika Anjani.\n"
          ]
        }
      ]
    },
    {
      "cell_type": "code",
      "source": [
        "print(f\"Berat Badan saya {BB} KG.\")"
      ],
      "metadata": {
        "colab": {
          "base_uri": "https://localhost:8080/"
        },
        "id": "KP3xhz1dl9Qd",
        "outputId": "b3da9df1-0772-48c9-f30e-0f12bf4a5923"
      },
      "execution_count": null,
      "outputs": [
        {
          "output_type": "stream",
          "name": "stdout",
          "text": [
            "Berat Badan saya 62 KG.\n"
          ]
        }
      ]
    },
    {
      "cell_type": "code",
      "source": [
        "print(\"perkenalkan nama saya \" + Nama)"
      ],
      "metadata": {
        "colab": {
          "base_uri": "https://localhost:8080/"
        },
        "id": "DZl9ey9xm460",
        "outputId": "a3e605c5-28c4-4c68-d724-675975f0f623"
      },
      "execution_count": null,
      "outputs": [
        {
          "output_type": "stream",
          "name": "stdout",
          "text": [
            "perkenalkan nama saya Afika Anjani\n"
          ]
        }
      ]
    },
    {
      "cell_type": "code",
      "source": [
        "print(\"berat badan saya \" + str(BB) +  \"KG\")"
      ],
      "metadata": {
        "colab": {
          "base_uri": "https://localhost:8080/"
        },
        "id": "Z64mag5HnW6A",
        "outputId": "3b3900b3-5216-4a92-b3be-f22881aacccc"
      },
      "execution_count": null,
      "outputs": [
        {
          "output_type": "stream",
          "name": "stdout",
          "text": [
            "berat badan saya 62KG\n"
          ]
        }
      ]
    },
    {
      "cell_type": "code",
      "source": [
        "print(\"Berat Badan saya  \" ,BB , \"KG.\")"
      ],
      "metadata": {
        "colab": {
          "base_uri": "https://localhost:8080/"
        },
        "id": "2MR9FXj9ocCJ",
        "outputId": "d5be55dd-3a6f-4114-f419-f389cfa3faa7"
      },
      "execution_count": null,
      "outputs": [
        {
          "output_type": "stream",
          "name": "stdout",
          "text": [
            "Berat Badan saya   62 KG.\n"
          ]
        }
      ]
    },
    {
      "cell_type": "markdown",
      "source": [
        "#Escape Character"
      ],
      "metadata": {
        "id": "h1djh0ZwvVtm"
      }
    },
    {
      "cell_type": "code",
      "source": [
        "print(\"Nama Afika Anjani\\nKelas: X.8\\nNo.Absen:3\")"
      ],
      "metadata": {
        "colab": {
          "base_uri": "https://localhost:8080/"
        },
        "id": "5oM3ZSt_vtXL",
        "outputId": "b3e9effd-2998-419b-cee7-d05a8f63f837"
      },
      "execution_count": null,
      "outputs": [
        {
          "output_type": "stream",
          "name": "stdout",
          "text": [
            "Nama Afika Anjani\n",
            "Kelas: X.8\n",
            "No.Absen:3\n"
          ]
        }
      ]
    },
    {
      "cell_type": "code",
      "source": [
        "print(\"\"\"Nama\\t\\t:Afika Anjani\n",
        "Kelas\\t\\t:X.8\n",
        "No.Absen\\t:3\"\"\")"
      ],
      "metadata": {
        "colab": {
          "base_uri": "https://localhost:8080/"
        },
        "id": "JW16xsFixCdS",
        "outputId": "13924469-511a-427e-aaef-988476ef389c"
      },
      "execution_count": null,
      "outputs": [
        {
          "output_type": "stream",
          "name": "stdout",
          "text": [
            "Nama\t\t:Afika Anjani\n",
            "Kelas\t\t:X.8\n",
            "No.Absen\t:3\n"
          ]
        }
      ]
    },
    {
      "cell_type": "code",
      "source": [
        "print(\"Nama:Afika Anjani\\nKelas: X.8\\nNo.absen: 3\")"
      ],
      "metadata": {
        "colab": {
          "base_uri": "https://localhost:8080/"
        },
        "id": "KA166OvHyV2N",
        "outputId": "101fdaf7-6b76-429c-b110-8fc888f9f41a"
      },
      "execution_count": null,
      "outputs": [
        {
          "output_type": "stream",
          "name": "stdout",
          "text": [
            "Nama:Afika Anjani\n",
            "Kelas: X.8\n",
            "No.absen: 3\n"
          ]
        }
      ]
    },
    {
      "cell_type": "code",
      "source": [
        "print(\"Lokasi File Tugas KKA:Local Disk:\\\\Tugas Afika\")"
      ],
      "metadata": {
        "colab": {
          "base_uri": "https://localhost:8080/"
        },
        "id": "TD1lw2R_1_6v",
        "outputId": "1af780c6-9c36-45ac-9465-f4d82a0453a3"
      },
      "execution_count": null,
      "outputs": [
        {
          "output_type": "stream",
          "name": "stdout",
          "text": [
            "Lokasi File Tugas KKA:Local Disk:\\Tugas Afika\n"
          ]
        }
      ]
    },
    {
      "cell_type": "markdown",
      "source": [
        "#Parameter Fungsi Print()"
      ],
      "metadata": {
        "id": "UMfBzbfh3Wsj"
      }
    },
    {
      "cell_type": "code",
      "source": [
        "Tahun = 2025\n",
        "Bulan = \"Agustus\"\n",
        "Tanggal = 23\n",
        "\n",
        "print(Tahun, Bulan, Tanggal, sep=\"-\")"
      ],
      "metadata": {
        "colab": {
          "base_uri": "https://localhost:8080/"
        },
        "id": "NasJwWK83oMS",
        "outputId": "83590bf1-8db9-4770-962e-35f97d9fa7c2"
      },
      "execution_count": null,
      "outputs": [
        {
          "output_type": "stream",
          "name": "stdout",
          "text": [
            "2025-Agustus-23\n"
          ]
        }
      ]
    },
    {
      "cell_type": "code",
      "source": [
        "nama_depan = \"Afika\"\n",
        "nama_belakang = \"Anjani\"\n",
        "print(nama_depan, end=\" \")\n",
        "print(nama_belakang)"
      ],
      "metadata": {
        "id": "lHcqc5a56FUj",
        "colab": {
          "base_uri": "https://localhost:8080/"
        },
        "outputId": "864e5d03-cf74-4638-aa11-1801bfa73529"
      },
      "execution_count": null,
      "outputs": [
        {
          "output_type": "stream",
          "name": "stdout",
          "text": [
            "Afika Anjani\n"
          ]
        }
      ]
    },
    {
      "cell_type": "code",
      "source": [
        "nama_siswa_1= \"Dinda\"\n",
        "nama_siswa_2= \"Aurin\"\n",
        "nama_siswa_3= \"Lisaan\"\n",
        "\n",
        "print(nama_siswa_3,nama_siswa_2,nama_siswa_1,nama_siswa_3,sep=\"/\")"
      ],
      "metadata": {
        "id": "uahW2EqBWej1",
        "colab": {
          "base_uri": "https://localhost:8080/"
        },
        "outputId": "fef70666-f966-464e-fa95-722f84eaac42"
      },
      "execution_count": null,
      "outputs": [
        {
          "output_type": "stream",
          "name": "stdout",
          "text": [
            "Lisaan/Aurin/Dinda/Lisaan\n"
          ]
        }
      ]
    },
    {
      "cell_type": "code",
      "source": [
        "nama_siswa_4 =\"Azkal\"\n",
        "nama_siswa_5=\"Hasim\"\n",
        "nama_siswa_6=\"Chilmi\"\n",
        "nama_siswa_7=\"Nova\"\n",
        "\n",
        "print(nama_siswa_6, end=\"~\")\n",
        "print(nama_siswa_4)\n",
        "\n",
        "print(nama_siswa_5, end=\"-\")\n",
        "print(nama_siswa_7)\n",
        "\n",
        "print(nama_siswa_4, end=\"/\")\n",
        "print(nama_siswa_7, end=\"&\")\n",
        "print(nama_siswa_5)"
      ],
      "metadata": {
        "colab": {
          "base_uri": "https://localhost:8080/"
        },
        "id": "e0WkeIR7QSmO",
        "outputId": "4fa9873b-15b2-442b-c07a-6bdb6d01d3fc"
      },
      "execution_count": null,
      "outputs": [
        {
          "output_type": "stream",
          "name": "stdout",
          "text": [
            "Chilmi~Azkal\n",
            "Hasim-Nova\n",
            "Azkal/Nova&Hasim\n"
          ]
        }
      ]
    }
  ]
}